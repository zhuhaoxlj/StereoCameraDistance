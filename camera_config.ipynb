{
 "cells": [
  {
   "metadata": {},
   "cell_type": "markdown",
   "source": "# 获取相机支持的最大分辨率",
   "id": "f603c6d5f379e35b"
  },
  {
   "cell_type": "code",
   "id": "initial_id",
   "metadata": {
    "collapsed": true,
    "ExecuteTime": {
     "end_time": "2024-08-18T03:23:27.536980Z",
     "start_time": "2024-08-18T03:23:26.061353Z"
    }
   },
   "source": [
    "import cv2\n",
    "\n",
    "\n",
    "def get_max_resolution(cam):\n",
    "    # 尝试一些常见的高分辨率\n",
    "    resolutions = [\n",
    "        (640, 480),\n",
    "        (1280, 720),\n",
    "        (1920, 1080),\n",
    "        (2560, 1440),\n",
    "        (3840, 2160),\n",
    "        (4096, 2160),\n",
    "        (7680, 4320)\n",
    "    ]\n",
    "\n",
    "    max_width = 0\n",
    "    max_height = 0\n",
    "\n",
    "    for res in resolutions:\n",
    "        cam.set(cv2.CAP_PROP_FRAME_WIDTH, res[0])\n",
    "        cam.set(cv2.CAP_PROP_FRAME_HEIGHT, res[1])\n",
    "\n",
    "        width = cam.get(cv2.CAP_PROP_FRAME_WIDTH)\n",
    "        height = cam.get(cv2.CAP_PROP_FRAME_HEIGHT)\n",
    "\n",
    "        if width > max_width and height > max_height:\n",
    "            max_width = width\n",
    "            max_height = height\n",
    "\n",
    "    return int(max_width), int(max_height)\n",
    "\n",
    "\n",
    "# 打开摄像头\n",
    "camera = cv2.VideoCapture(0)\n",
    "\n",
    "# 获取最大分辨率\n",
    "max_resolution = get_max_resolution(camera)\n",
    "print(f\"相机支持的最大分辨率: {max_resolution[0]}x{max_resolution[1]}\")\n",
    "\n",
    "# 释放摄像头资源\n",
    "camera.release()"
   ],
   "outputs": [
    {
     "name": "stdout",
     "output_type": "stream",
     "text": [
      "相机支持的最大分辨率: 3200x1200\n"
     ]
    }
   ],
   "execution_count": 1
  },
  {
   "metadata": {},
   "cell_type": "markdown",
   "source": "# 测试相机指定分辨率下最大帧率",
   "id": "4fbe520781f87320"
  },
  {
   "metadata": {
    "ExecuteTime": {
     "end_time": "2024-08-18T03:25:15.533064Z",
     "start_time": "2024-08-18T03:25:00.281616Z"
    }
   },
   "cell_type": "code",
   "source": [
    "import cv2\n",
    "import time\n",
    "\n",
    "\n",
    "def get_max_fps(cam, width, height):\n",
    "    # 设置指定的分辨率\n",
    "    cam.set(cv2.CAP_PROP_FRAME_WIDTH, width)\n",
    "    cam.set(cv2.CAP_PROP_FRAME_HEIGHT, height)\n",
    "\n",
    "    # 验证实际设置的分辨率\n",
    "    actual_width = int(cam.get(cv2.CAP_PROP_FRAME_WIDTH))\n",
    "    actual_height = int(cam.get(cv2.CAP_PROP_FRAME_HEIGHT))\n",
    "\n",
    "    if actual_width != width or actual_height != height:\n",
    "        print(f\"警告：无法设置为指定分辨率 {width}x{height}\")\n",
    "        print(f\"实际分辨率为: {actual_width}x{actual_height}\")\n",
    "\n",
    "    tmp_max_fps = 0\n",
    "    for test_fps in range(10, 121, 10):  # 测试从10fps到120fps，每次增加10\n",
    "        cam.set(cv2.CAP_PROP_FPS, test_fps)\n",
    "\n",
    "        # 计算实际帧率\n",
    "        start_time = time.time()\n",
    "        frame_count = 0\n",
    "        for _ in range(50):  # 捕获50帧来计算平均帧率\n",
    "            ret, frame = cam.read()\n",
    "            if not ret:\n",
    "                break\n",
    "            frame_count += 1\n",
    "\n",
    "        end_time = time.time()\n",
    "        actual_fps = frame_count / (end_time - start_time)\n",
    "\n",
    "        print(f\"测试帧率: {test_fps}, 实际帧率: {actual_fps:.2f}\")\n",
    "\n",
    "        if actual_fps > tmp_max_fps:\n",
    "            tmp_max_fps = actual_fps\n",
    "        else:\n",
    "            # 如果实际帧率不再增加，我们认为已经达到了最大帧率\n",
    "            break\n",
    "\n",
    "    return tmp_max_fps\n",
    "\n",
    "\n",
    "# 打开摄像头\n",
    "camera = cv2.VideoCapture(0)\n",
    "\n",
    "# 指定要测试的分辨率\n",
    "test_width = 3200\n",
    "test_height = 1200\n",
    "\n",
    "# 获取并打印最大帧率\n",
    "max_fps = get_max_fps(camera, test_width, test_height)\n",
    "print(f\"在分辨率 {test_width}x{test_height} 下的最大帧率约为: {max_fps:.2f} FPS\")\n",
    "\n",
    "# 释放摄像头资源\n",
    "camera.release()\n"
   ],
   "id": "4d86b0a0fe214cea",
   "outputs": [
    {
     "name": "stdout",
     "output_type": "stream",
     "text": [
      "测试帧率: 10, 实际帧率: 9.23\n",
      "测试帧率: 20, 实际帧率: 18.47\n",
      "测试帧率: 30, 实际帧率: 26.46\n",
      "测试帧率: 40, 实际帧率: 29.82\n",
      "测试帧率: 50, 实际帧率: 51.88\n",
      "测试帧率: 60, 实际帧率: 60.17\n",
      "测试帧率: 70, 实际帧率: 59.97\n",
      "在分辨率 3200x1200 下的最大帧率约为: 60.17 FPS\n"
     ]
    }
   ],
   "execution_count": 2
  }
 ],
 "metadata": {
  "kernelspec": {
   "display_name": "Python 3",
   "language": "python",
   "name": "python3"
  },
  "language_info": {
   "codemirror_mode": {
    "name": "ipython",
    "version": 2
   },
   "file_extension": ".py",
   "mimetype": "text/x-python",
   "name": "python",
   "nbconvert_exporter": "python",
   "pygments_lexer": "ipython2",
   "version": "2.7.6"
  }
 },
 "nbformat": 4,
 "nbformat_minor": 5
}
